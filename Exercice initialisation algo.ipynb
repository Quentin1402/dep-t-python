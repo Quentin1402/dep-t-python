{
 "cells": [
  {
   "cell_type": "code",
   "execution_count": 1,
   "id": "a995a4ec",
   "metadata": {},
   "outputs": [
    {
     "name": "stdout",
     "output_type": "stream",
     "text": [
      "Entrez un nombre5\n",
      "Entrez un nombre5\n",
      "Le produit de 5 * 5 est positif\n"
     ]
    }
   ],
   "source": [
    "def is_positif(nombre1, nombre2):\n",
    "    if(int(nombre1) < 0 and int(nombre2) < 0):\n",
    "        print(\"Le produit de \" + nombre1 + \" * \" + nombre2 + \" est positif\")\n",
    "    elif(int(nombre1) > 0 and int(nombre2) > 0):\n",
    "        print(\"Le produit de \" + nombre1 + \" * \" + nombre2 + \" est positif\")\n",
    "    else:\n",
    "        print(\"Le produit de \" + nombre1 + \" * \" + nombre2 + \" est négatif\")\n",
    "        \n",
    "nombre1 = input(\"Entrez un nombre : \")\n",
    "nombre2 = input(\"Entrez un nombre : \")\n",
    "\n",
    "is_positif(nombre1, nombre2)"
   ]
  },
  {
   "cell_type": "code",
   "execution_count": 2,
   "id": "f803703a",
   "metadata": {},
   "outputs": [
    {
     "name": "stdout",
     "output_type": "stream",
     "text": [
      "Entrez un nombre : 5\n",
      "15\n"
     ]
    }
   ],
   "source": [
    "def add(nombre):\n",
    "    x = 0\n",
    "    for i in range(int(nombre) + 1):\n",
    "        x += i\n",
    "    print(x)\n",
    "    \n",
    "nombre = input(\"Entrez un nombre : \")\n",
    "\n",
    "add(nombre)"
   ]
  },
  {
   "cell_type": "code",
   "execution_count": 3,
   "id": "97bb012f",
   "metadata": {},
   "outputs": [
    {
     "name": "stdout",
     "output_type": "stream",
     "text": [
      "Entrez la taille du tableau : 5\n",
      "Entrez un element du tableau : 1\n",
      "Entrez un element du tableau : 2\n",
      "Entrez un element du tableau : 2\n",
      "Entrez un element du tableau : 4\n",
      "Entrez un element du tableau : 5\n",
      "14.0\n"
     ]
    }
   ],
   "source": [
    "def creat_tab(tab):\n",
    "    n = input(\"Entrez la taille du tableau : \")\n",
    "    for i in range(int(n)):\n",
    "        ele = float(input(\"Entrez un element du tableau : \"))\n",
    "        tab.append(ele)\n",
    "\n",
    "def add_tab(tab):\n",
    "    creat_tab(tab)\n",
    "    x = 0\n",
    "    for i in range(len(tab)):\n",
    "        x += tab[i]\n",
    "    print(x)\n",
    "    \n",
    "tab = []\n",
    "\n",
    "add_tab(tab)"
   ]
  },
  {
   "cell_type": "code",
   "execution_count": 5,
   "id": "48952a48",
   "metadata": {},
   "outputs": [
    {
     "name": "stdout",
     "output_type": "stream",
     "text": [
      "Entrez la taille du tableau : 5\n",
      "Entrez un element du tableau : 1\n",
      "Entrez un element du tableau : 2\n",
      "Entrez un element du tableau : 3\n",
      "Entrez un element du tableau : 4\n",
      "Entrez un element du tableau : 5\n",
      "Entrez la taille du tableau : 5\n",
      "Entrez un element du tableau : 1\n",
      "Entrez un element du tableau : 2\n",
      "Entrez un element du tableau : 3\n",
      "Entrez un element du tableau : 4\n",
      "Entrez un element du tableau : 5\n",
      "110.0\n"
     ]
    }
   ],
   "source": [
    "def creat_tab(tab):\n",
    "    n = input(\"Entrez la taille du tableau : \")\n",
    "    for i in range(int(n)):\n",
    "        ele = float(input(\"Entrez un element du tableau : \"))\n",
    "        tab.append(ele)\n",
    "        \n",
    "def total_prod_tab(tab, tab2):\n",
    "    creat_tab(tab)\n",
    "    creat_tab(tab2)\n",
    "    long = 0\n",
    "    if(len(tab) > len(tab2)):\n",
    "        long = len(tab)\n",
    "    else:\n",
    "        long = len(tab2)\n",
    "    x = 0\n",
    "    y = 0\n",
    "    for i in range(long):\n",
    "        y = tab[i] * tab2[i]\n",
    "        x += y\n",
    "    print(x)\n",
    "    \n",
    "tab = []\n",
    "tab2 = []\n",
    "\n",
    "total_prod_tab(tab, tab)"
   ]
  },
  {
   "cell_type": "code",
   "execution_count": 6,
   "id": "75635d17",
   "metadata": {},
   "outputs": [
    {
     "name": "stdout",
     "output_type": "stream",
     "text": [
      "Entrez la taille du tableau : 5\n",
      "Entrez un element du tableau : 1\n",
      "Entrez un element du tableau : 2\n",
      "Entrez un element du tableau : 3\n",
      "Entrez un element du tableau : 4\n",
      "Entrez un element du tableau : 5\n",
      "5.0\n",
      "4\n"
     ]
    }
   ],
   "source": [
    "def creat_tab(tab):\n",
    "    n = input(\"Entrez la taille du tableau : \")\n",
    "    for i in range(int(n)):\n",
    "        ele = float(input(\"Entrez un element du tableau : \"))\n",
    "        tab.append(ele)\n",
    "        \n",
    "def plus_grand(tab):\n",
    "    creat_tab(tab)\n",
    "    max = 0\n",
    "    index = 0\n",
    "    for i in range(len(tab)):\n",
    "        if(tab[i] > max):\n",
    "            max = tab[i]\n",
    "            index = i\n",
    "    print(max) \n",
    "    print(index)\n",
    "    \n",
    "tab = []\n",
    "\n",
    "plus_grand(tab)"
   ]
  },
  {
   "cell_type": "code",
   "execution_count": 8,
   "id": "9c90ff2a",
   "metadata": {},
   "outputs": [
    {
     "name": "stdout",
     "output_type": "stream",
     "text": [
      "Entrez la taille du tableau : 5\n",
      "Entrez un element du tableau : 1\n",
      "Entrez un element du tableau : 2\n",
      "Entrez un element du tableau : 3\n",
      "Entrez un element du tableau : 4\n",
      "Entrez un element du tableau : 5\n",
      "2\n"
     ]
    }
   ],
   "source": [
    "def creat_tab(tab):\n",
    "    n = input(\"Entrez la taille du tableau : \")\n",
    "    for i in range(int(n)):\n",
    "        ele = float(input(\"Entrez un element du tableau : \"))\n",
    "        tab.append(ele)\n",
    "\n",
    "def sup_moyenne(tab):\n",
    "    creat_tab(tab)\n",
    "    x = 0\n",
    "    y = 0\n",
    "    compteur = 0\n",
    "    for i in range(len(tab)):\n",
    "        x += tab[i]\n",
    "    y = x/len(tab)\n",
    "    for i in range(len(tab)):\n",
    "        if(tab[i] > y):\n",
    "            compteur += 1\n",
    "    print(compteur)\n",
    "\n",
    "tab = []\n",
    "\n",
    "sup_moyenne(tab)"
   ]
  },
  {
   "cell_type": "code",
   "execution_count": 41,
   "id": "ae3433b0",
   "metadata": {},
   "outputs": [
    {
     "name": "stdout",
     "output_type": "stream",
     "text": [
      "[-3370, 16, 584]\n"
     ]
    }
   ],
   "source": [
    "vec = [8,6,46]\n",
    "vec2 = [4,76,21]\n",
    "tab = []\n",
    "\n",
    "x = vec[1] * vec2[2] - vec2[1] * vec[2]\n",
    "tab.append(x)\n",
    "x = vec[2] * vec2[0] - vec2[2] * vec[0]\n",
    "tab.append(x)\n",
    "x = vec[0] * vec2[1] - vec2[0] * vec[1]\n",
    "tab.append(x)\n",
    "\n",
    "print (tab)"
   ]
  },
  {
   "cell_type": "code",
   "execution_count": 30,
   "id": "2255998f",
   "metadata": {},
   "outputs": [
    {
     "name": "stdout",
     "output_type": "stream",
     "text": [
      "[1, 2, 3, 4, 5, 6, 7, 8, 9]\n"
     ]
    }
   ],
   "source": [
    "def merge(arr, indexG, mid_index, indexR):\n",
    "    left_array = arr[indexG:mid_index+1]\n",
    "    right_array = arr[mid_index+1:indexR+1]\n",
    "\n",
    "    left_array_length = mid_index - indexG + 1\n",
    "    right_array_length = indexR - mid_index\n",
    "\n",
    "    i = j = 0\n",
    "\n",
    "    k = indexG\n",
    "\n",
    "    while i < left_array_length and j < right_array_length:\n",
    "        if left_array[i] < right_array[j]:\n",
    "            arr[k] = left_array[i]\n",
    "            i += 1\n",
    "        else:\n",
    "            arr[k] = right_array[j]\n",
    "            j += 1\n",
    "        k += 1\n",
    "\n",
    "    while i < left_array_length:\n",
    "        arr[k] = left_array[i]\n",
    "        i += 1\n",
    "        k += 1\n",
    "\n",
    "    while j < right_array_length:\n",
    "        j += 1\n",
    "        k += 1\n",
    "\n",
    "def merge_sort(arr, indexG, indexR):\n",
    "    if indexG >= indexR:\n",
    "        return\n",
    "\n",
    "    mid_index = (indexG + indexR) // 2\n",
    "\n",
    "    merge_sort(arr, indexG, mid_index)\n",
    "    merge_sort(arr, mid_index + 1, indexR)\n",
    "\n",
    "    merge(arr, indexG, mid_index, indexR)\n",
    "\n",
    "arr = [3, 4, 7, 8, 1, 9, 5, 2, 6]\n",
    "merge_sort(arr, 0, len(arr) - 1)\n",
    "\n",
    "print(str(arr))"
   ]
  },
  {
   "cell_type": "code",
   "execution_count": 35,
   "id": "892c79b5",
   "metadata": {},
   "outputs": [
    {
     "name": "stdout",
     "output_type": "stream",
     "text": [
      "Entrez un nombre : 5\n",
      "120\n"
     ]
    }
   ],
   "source": [
    "def factoriel(nombre):\n",
    "    x = 1\n",
    "    for i in range(1,int(nombre) + 1):\n",
    "        x = x * i\n",
    "    print(x)\n",
    "    \n",
    "nombre = input(\"Entrez un nombre : \")\n",
    "\n",
    "factoriel(nombre)"
   ]
  },
  {
   "cell_type": "code",
   "execution_count": 56,
   "id": "e76aebeb",
   "metadata": {},
   "outputs": [
    {
     "name": "stdout",
     "output_type": "stream",
     "text": [
      "[[8, 11], [22, 29]]\n"
     ]
    }
   ],
   "source": [
    "tab = ([[1, 2], \n",
    "        [3, 4]])\n",
    "tab2 = ([[6, 7], \n",
    "         [1, 2]])\n",
    "\n",
    "def multi_matrice(a, b):\n",
    "    m = []\n",
    "    for i in range(len(a)):\n",
    "        n = []\n",
    "        for j in range(len(a)):\n",
    "            x = 0\n",
    "            for k in range(len(a)):\n",
    "                x = x + a[i][k] * b[k][j]\n",
    "            n.append(x)\n",
    "        m.append(n)\n",
    "    print(m)\n",
    "            \n",
    "multi_matrice(tab, tab2)"
   ]
  },
  {
   "cell_type": "code",
   "execution_count": 120,
   "id": "bfddb1e8",
   "metadata": {},
   "outputs": [
    {
     "name": "stdout",
     "output_type": "stream",
     "text": [
      "Entrez le nombre de terme (plus que 1) : 10\n",
      "55\n"
     ]
    }
   ],
   "source": [
    "def fibo(n):\n",
    "    tab = [x for x in range(n + 1)]\n",
    "    tab[0] = 0\n",
    "    tab[1] = 1  \n",
    "    for i in range(2, n + 1):\n",
    "        tab[i] = tab[i - 1] + tab[i - 2]\n",
    "    print(tab[n])\n",
    "\n",
    "n = int(input(\"Entrez le nombre de terme (plus que 1) : \"))\n",
    "fibo(n)"
   ]
  },
  {
   "cell_type": "code",
   "execution_count": 105,
   "id": "27a90808",
   "metadata": {},
   "outputs": [
    {
     "name": "stdout",
     "output_type": "stream",
     "text": [
      "84\n"
     ]
    }
   ],
   "source": [
    "def arret(nombre):\n",
    "    n = 0\n",
    "    i = 1\n",
    "    while(n <= nombre):\n",
    "        n += 1/i\n",
    "        i += 1\n",
    "    print(i)\n",
    "    \n",
    "arret(5)"
   ]
  },
  {
   "cell_type": "code",
   "execution_count": 74,
   "id": "a575ff7a",
   "metadata": {},
   "outputs": [
    {
     "name": "stdout",
     "output_type": "stream",
     "text": [
      "4\n"
     ]
    }
   ],
   "source": [
    "s = \"chien\"\n",
    "s2 = \"niche\"\n",
    "\n",
    "def lev(s, s2):\n",
    "    tab = [[x for x in range(len(s) + 1)] for y in range(len(s2) + 1)]\n",
    "    if(len(s) == 0 or len(s2) == 0):\n",
    "        return max(len(s), len(s2))\n",
    "    else:\n",
    "        for i in range(1, len(s2) + 1):\n",
    "            tab[i][0] = i\n",
    "        for i in range(1, len(s2) + 1):\n",
    "            for j in range(1, len(s) + 1):\n",
    "                if(s[j - 1] == s2[i - 1]):\n",
    "                    tab[i][j] = tab[i-1][j-1]\n",
    "                else:\n",
    "                    tab[i][j] = min(tab[i-1][j], tab[i][j-1], tab[i-1][j-1]) + 1\n",
    "    print(tab[len(s2) - 1][len(s) - 1])\n",
    "\n",
    "lev(s, s2)"
   ]
  },
  {
   "cell_type": "code",
   "execution_count": 75,
   "id": "f10b3897",
   "metadata": {},
   "outputs": [
    {
     "name": "stdout",
     "output_type": "stream",
     "text": [
      "3\n"
     ]
    }
   ],
   "source": [
    "# 75 LeetCode -> String -> Maximum Depth of Binary Tree\n",
    "\n",
    "s = \"pwwkew\"\n",
    "\n",
    "def sub_string(s):\n",
    "    compteur = 0\n",
    "    maxi = 0\n",
    "    tab = {}\n",
    "    for i in range(len(s)):\n",
    "        tab[s[i]] = 0\n",
    "    for i in range(len(s)):\n",
    "        tab[s[i]] += 1\n",
    "        if(tab[s[i]] > 1):\n",
    "            maxi = max(maxi, compteur)\n",
    "            compteur = 0\n",
    "        compteur += 1\n",
    "    print(maxi)\n",
    "\n",
    "sub_string(s)"
   ]
  },
  {
   "cell_type": "code",
   "execution_count": 106,
   "id": "af109bd9",
   "metadata": {},
   "outputs": [
    {
     "name": "stdout",
     "output_type": "stream",
     "text": [
      "[0, 1]\n"
     ]
    }
   ],
   "source": [
    "# 75 LeetCode -> Array -> Two Sum\n",
    "\n",
    "tab = [2,7,11,15]\n",
    "target = 9\n",
    "\n",
    "def sum_to_target(tab, target):\n",
    "    t = {}\n",
    "    for i in range(len(tab)):\n",
    "        t[tab[i]] = i\n",
    "    for i in range(len(tab)):\n",
    "        reste = target - tab[i]\n",
    "        if(reste in t):\n",
    "            return [i, t[reste]]\n",
    "         \n",
    "print(sum_to_target(tab, target))"
   ]
  },
  {
   "cell_type": "code",
   "execution_count": 118,
   "id": "df2d64ad",
   "metadata": {},
   "outputs": [
    {
     "name": "stdout",
     "output_type": "stream",
     "text": [
      "Entrez le nombre de marches : 10\n",
      "89\n"
     ]
    }
   ],
   "source": [
    "# 75 LeetCode -> Dynamic Programming -> Climbing Stair\n",
    "\n",
    "def stair(n):\n",
    "    tab = [x for x in range(n + 1)]\n",
    "    tab[0] = 1\n",
    "    tab[1] = 1  \n",
    "    for i in range(2, n + 1):\n",
    "        tab[i] = tab[i - 1] + tab[i - 2]\n",
    "    print(tab[n])\n",
    "\n",
    "n = int(input(\"Entrez le nombre de marches : \"))\n",
    "stair(n)"
   ]
  },
  {
   "cell_type": "code",
   "execution_count": null,
   "id": "ea56bd70",
   "metadata": {},
   "outputs": [],
   "source": []
  }
 ],
 "metadata": {
  "kernelspec": {
   "display_name": "Python 3 (ipykernel)",
   "language": "python",
   "name": "python3"
  },
  "language_info": {
   "codemirror_mode": {
    "name": "ipython",
    "version": 3
   },
   "file_extension": ".py",
   "mimetype": "text/x-python",
   "name": "python",
   "nbconvert_exporter": "python",
   "pygments_lexer": "ipython3",
   "version": "3.9.7"
  }
 },
 "nbformat": 4,
 "nbformat_minor": 5
}

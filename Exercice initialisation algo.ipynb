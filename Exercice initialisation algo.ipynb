{
 "cells": [
  {
   "cell_type": "code",
   "execution_count": 1,
   "id": "0f43330b",
   "metadata": {},
   "outputs": [
    {
     "name": "stdout",
     "output_type": "stream",
     "text": [
      "Entrez un nombre5\n",
      "Entrez un nombre5\n",
      "Le produit de 5 * 5 est positif\n"
     ]
    }
   ],
   "source": [
    "def is_positif(nombre1, nombre2):\n",
    "    if(int(nombre1) < 0 and int(nombre2) < 0):\n",
    "        print(\"Le produit de \" + nombre1 + \" * \" + nombre2 + \" est positif\")\n",
    "    elif(int(nombre1) > 0 and int(nombre2) > 0):\n",
    "        print(\"Le produit de \" + nombre1 + \" * \" + nombre2 + \" est positif\")\n",
    "    else:\n",
    "        print(\"Le produit de \" + nombre1 + \" * \" + nombre2 + \" est négatif\")\n",
    "        \n",
    "nombre1 = input(\"Entrez un nombre : \")\n",
    "nombre2 = input(\"Entrez un nombre : \")\n",
    "\n",
    "is_positif(nombre1, nombre2)"
   ]
  },
  {
   "cell_type": "code",
   "execution_count": 2,
   "id": "734bd675",
   "metadata": {},
   "outputs": [
    {
     "name": "stdout",
     "output_type": "stream",
     "text": [
      "Entrez un nombre : 5\n",
      "15\n"
     ]
    }
   ],
   "source": [
    "def add(nombre):\n",
    "    x = 0\n",
    "    for i in range(int(nombre) + 1):\n",
    "        x += i\n",
    "    print(x)\n",
    "    \n",
    "nombre = input(\"Entrez un nombre : \")\n",
    "\n",
    "add(nombre)"
   ]
  },
  {
   "cell_type": "code",
   "execution_count": 3,
   "id": "08d3c0b6",
   "metadata": {},
   "outputs": [
    {
     "name": "stdout",
     "output_type": "stream",
     "text": [
      "Entrez la taille du tableau : 5\n",
      "Entrez un element du tableau : 1\n",
      "Entrez un element du tableau : 2\n",
      "Entrez un element du tableau : 2\n",
      "Entrez un element du tableau : 4\n",
      "Entrez un element du tableau : 5\n",
      "14.0\n"
     ]
    }
   ],
   "source": [
    "def creat_tab(tab):\n",
    "    n = input(\"Entrez la taille du tableau : \")\n",
    "    for i in range(int(n)):\n",
    "        ele = float(input(\"Entrez un element du tableau : \"))\n",
    "        tab.append(ele)\n",
    "\n",
    "def add_tab(tab):\n",
    "    creat_tab(tab)\n",
    "    x = 0\n",
    "    for i in range(len(tab)):\n",
    "        x += tab[i]\n",
    "    print(x)\n",
    "    \n",
    "tab = []\n",
    "\n",
    "add_tab(tab)"
   ]
  },
  {
   "cell_type": "code",
   "execution_count": 5,
   "id": "fd604353",
   "metadata": {},
   "outputs": [
    {
     "name": "stdout",
     "output_type": "stream",
     "text": [
      "Entrez la taille du tableau : 5\n",
      "Entrez un element du tableau : 1\n",
      "Entrez un element du tableau : 2\n",
      "Entrez un element du tableau : 3\n",
      "Entrez un element du tableau : 4\n",
      "Entrez un element du tableau : 5\n",
      "Entrez la taille du tableau : 5\n",
      "Entrez un element du tableau : 1\n",
      "Entrez un element du tableau : 2\n",
      "Entrez un element du tableau : 3\n",
      "Entrez un element du tableau : 4\n",
      "Entrez un element du tableau : 5\n",
      "110.0\n"
     ]
    }
   ],
   "source": [
    "def creat_tab(tab):\n",
    "    n = input(\"Entrez la taille du tableau : \")\n",
    "    for i in range(int(n)):\n",
    "        ele = float(input(\"Entrez un element du tableau : \"))\n",
    "        tab.append(ele)\n",
    "        \n",
    "def total_prod_tab(tab, tab2):\n",
    "    creat_tab(tab)\n",
    "    creat_tab(tab2)\n",
    "    long = 0\n",
    "    if(len(tab) > len(tab2)):\n",
    "        long = len(tab)\n",
    "    else:\n",
    "        long = len(tab2)\n",
    "    x = 0\n",
    "    y = 0\n",
    "    for i in range(long):\n",
    "        y = tab[i] * tab2[i]\n",
    "        x += y\n",
    "    print(x)\n",
    "    \n",
    "tab = []\n",
    "tab2 = []\n",
    "\n",
    "total_prod_tab(tab, tab)"
   ]
  },
  {
   "cell_type": "code",
   "execution_count": 6,
   "id": "3ff1be6c",
   "metadata": {},
   "outputs": [
    {
     "name": "stdout",
     "output_type": "stream",
     "text": [
      "Entrez la taille du tableau : 5\n",
      "Entrez un element du tableau : 1\n",
      "Entrez un element du tableau : 2\n",
      "Entrez un element du tableau : 3\n",
      "Entrez un element du tableau : 4\n",
      "Entrez un element du tableau : 5\n",
      "5.0\n",
      "4\n"
     ]
    }
   ],
   "source": [
    "def creat_tab(tab):\n",
    "    n = input(\"Entrez la taille du tableau : \")\n",
    "    for i in range(int(n)):\n",
    "        ele = float(input(\"Entrez un element du tableau : \"))\n",
    "        tab.append(ele)\n",
    "        \n",
    "def plus_grand(tab):\n",
    "    creat_tab(tab)\n",
    "    max = 0\n",
    "    index = 0\n",
    "    for i in range(len(tab)):\n",
    "        if(tab[i] > max):\n",
    "            max = tab[i]\n",
    "            index = i\n",
    "    print(max) \n",
    "    print(index)\n",
    "    \n",
    "tab = []\n",
    "\n",
    "plus_grand(tab)"
   ]
  },
  {
   "cell_type": "code",
   "execution_count": 8,
   "id": "eb8f603f",
   "metadata": {},
   "outputs": [
    {
     "name": "stdout",
     "output_type": "stream",
     "text": [
      "Entrez la taille du tableau : 5\n",
      "Entrez un element du tableau : 1\n",
      "Entrez un element du tableau : 2\n",
      "Entrez un element du tableau : 3\n",
      "Entrez un element du tableau : 4\n",
      "Entrez un element du tableau : 5\n",
      "2\n"
     ]
    }
   ],
   "source": [
    "def creat_tab(tab):\n",
    "    n = input(\"Entrez la taille du tableau : \")\n",
    "    for i in range(int(n)):\n",
    "        ele = float(input(\"Entrez un element du tableau : \"))\n",
    "        tab.append(ele)\n",
    "\n",
    "def sup_moyenne(tab):\n",
    "    creat_tab(tab)\n",
    "    x = 0\n",
    "    y = 0\n",
    "    compteur = 0\n",
    "    for i in range(len(tab)):\n",
    "        x += tab[i]\n",
    "    y = x/len(tab)\n",
    "    for i in range(len(tab)):\n",
    "        if(tab[i] > y):\n",
    "            compteur += 1\n",
    "    print(compteur)\n",
    "\n",
    "tab = []\n",
    "\n",
    "sup_moyenne(tab)"
   ]
  },
  {
   "cell_type": "code",
   "execution_count": 41,
   "id": "7a46f80c",
   "metadata": {},
   "outputs": [
    {
     "name": "stdout",
     "output_type": "stream",
     "text": [
      "[-3370, 16, 584]\n"
     ]
    }
   ],
   "source": [
    "vec = [8,6,46]\n",
    "vec2 = [4,76,21]\n",
    "tab = []\n",
    "\n",
    "x = vec[1] * vec2[2] - vec2[1] * vec[2]\n",
    "tab.append(x)\n",
    "x = vec[2] * vec2[0] - vec2[2] * vec[0]\n",
    "tab.append(x)\n",
    "x = vec[0] * vec2[1] - vec2[0] * vec[1]\n",
    "tab.append(x)\n",
    "\n",
    "print (tab)"
   ]
  },
  {
   "cell_type": "code",
   "execution_count": 30,
   "id": "26e975ba",
   "metadata": {},
   "outputs": [
    {
     "name": "stdout",
     "output_type": "stream",
     "text": [
      "[1, 2, 3, 4, 5, 6, 7, 8, 9]\n"
     ]
    }
   ],
   "source": [
    "def merge(arr, indexG, mid_index, indexR):\n",
    "    left_array = arr[indexG:mid_index+1]\n",
    "    right_array = arr[mid_index+1:indexR+1]\n",
    "\n",
    "    left_array_length = mid_index - indexG + 1\n",
    "    right_array_length = indexR - mid_index\n",
    "\n",
    "    i = j = 0\n",
    "\n",
    "    k = indexG\n",
    "\n",
    "    while i < left_array_length and j < right_array_length:\n",
    "        if left_array[i] < right_array[j]:\n",
    "            arr[k] = left_array[i]\n",
    "            i += 1\n",
    "        else:\n",
    "            arr[k] = right_array[j]\n",
    "            j += 1\n",
    "        k += 1\n",
    "\n",
    "    while i < left_array_length:\n",
    "        arr[k] = left_array[i]\n",
    "        i += 1\n",
    "        k += 1\n",
    "\n",
    "    while j < right_array_length:\n",
    "        j += 1\n",
    "        k += 1\n",
    "\n",
    "def merge_sort(arr, indexG, indexR):\n",
    "    if indexG >= indexR:\n",
    "        return\n",
    "\n",
    "    mid_index = (indexG + indexR) // 2\n",
    "\n",
    "    merge_sort(arr, indexG, mid_index)\n",
    "    merge_sort(arr, mid_index + 1, indexR)\n",
    "\n",
    "    merge(arr, indexG, mid_index, indexR)\n",
    "\n",
    "arr = [3, 4, 7, 8, 1, 9, 5, 2, 6]\n",
    "merge_sort(arr, 0, len(arr) - 1)\n",
    "\n",
    "print(str(arr))"
   ]
  },
  {
   "cell_type": "code",
   "execution_count": 35,
   "id": "98f054eb",
   "metadata": {},
   "outputs": [
    {
     "name": "stdout",
     "output_type": "stream",
     "text": [
      "Entrez un nombre : 5\n",
      "120\n"
     ]
    }
   ],
   "source": [
    "def factoriel(nombre):\n",
    "    x = 1\n",
    "    for i in range(1,int(nombre) + 1):\n",
    "        x = x * i\n",
    "    print(x)\n",
    "    \n",
    "nombre = input(\"Entrez un nombre : \")\n",
    "\n",
    "factoriel(nombre)"
   ]
  },
  {
   "cell_type": "code",
   "execution_count": 56,
   "id": "59ee6dff",
   "metadata": {},
   "outputs": [
    {
     "name": "stdout",
     "output_type": "stream",
     "text": [
      "[[8, 11], [22, 29]]\n"
     ]
    }
   ],
   "source": [
    "tab = ([[1, 2], \n",
    "        [3, 4]])\n",
    "tab2 = ([[6, 7], \n",
    "         [1, 2]])\n",
    "\n",
    "def multi_matrice(a, b):\n",
    "    m = []\n",
    "    for i in range(len(a)):\n",
    "        n = []\n",
    "        for j in range(len(a)):\n",
    "            x = 0\n",
    "            for k in range(len(a)):\n",
    "                x = x + a[i][k] * b[k][j]\n",
    "            n.append(x)\n",
    "        m.append(n)\n",
    "    print(m)\n",
    "            \n",
    "multi_matrice(tab, tab2)"
   ]
  },
  {
   "cell_type": "code",
   "execution_count": 47,
   "id": "c9efe959",
   "metadata": {},
   "outputs": [
    {
     "name": "stdout",
     "output_type": "stream",
     "text": [
      "Entrez le nombre de terme : 10\n",
      "0\n",
      "1\n",
      "1\n",
      "2\n",
      "3\n",
      "5\n",
      "8\n",
      "13\n",
      "21\n",
      "34\n"
     ]
    }
   ],
   "source": [
    "def fibo(n):\n",
    "    if(n <= 1):\n",
    "        return n\n",
    "    else:  \n",
    "        return (fibo(n-1) + fibo(n-2))\n",
    "\n",
    "n = int(input(\"Entrez le nombre de terme : \"))\n",
    "for i in range(n):\n",
    "    print(fibo(i))"
   ]
  },
  {
   "cell_type": "code",
   "execution_count": 60,
   "id": "7a479065",
   "metadata": {},
   "outputs": [
    {
     "name": "stdout",
     "output_type": "stream",
     "text": [
      "84\n"
     ]
    }
   ],
   "source": [
    "def arret(nombre):\n",
    "    n = 0\n",
    "    i = 1\n",
    "    while(n < nombre):\n",
    "        n += 1/i\n",
    "        i += 1\n",
    "    print(i)\n",
    "    \n",
    "arret(5)"
   ]
  },
  {
   "cell_type": "code",
   "execution_count": null,
   "id": "3b9a1ef7",
   "metadata": {},
   "outputs": [],
   "source": []
  }
 ],
 "metadata": {
  "kernelspec": {
   "display_name": "Python 3 (ipykernel)",
   "language": "python",
   "name": "python3"
  },
  "language_info": {
   "codemirror_mode": {
    "name": "ipython",
    "version": 3
   },
   "file_extension": ".py",
   "mimetype": "text/x-python",
   "name": "python",
   "nbconvert_exporter": "python",
   "pygments_lexer": "ipython3",
   "version": "3.9.7"
  }
 },
 "nbformat": 4,
 "nbformat_minor": 5
}
